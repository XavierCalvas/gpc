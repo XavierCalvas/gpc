{
  "nbformat": 4,
  "nbformat_minor": 0,
  "metadata": {
    "colab": {
      "provenance": [],
      "authorship_tag": "ABX9TyMPFvgp04JEYk8kXD+DCH3s",
      "include_colab_link": true
    },
    "kernelspec": {
      "name": "python3",
      "display_name": "Python 3"
    },
    "language_info": {
      "name": "python"
    }
  },
  "cells": [
    {
      "cell_type": "markdown",
      "metadata": {
        "id": "view-in-github",
        "colab_type": "text"
      },
      "source": [
        "<a href=\"https://colab.research.google.com/github/xacq/gpc/blob/main/REDNEURONALPYTHON1.ipynb\" target=\"_parent\"><img src=\"https://colab.research.google.com/assets/colab-badge.svg\" alt=\"Open In Colab\"/></a>"
      ]
    },
    {
      "cell_type": "code",
      "execution_count": 1,
      "metadata": {
        "id": "xmETDb1X2utj"
      },
      "outputs": [],
      "source": [
        "import tensorflow as tf\n",
        "import numpy as np"
      ]
    },
    {
      "cell_type": "code",
      "source": [
        "celsius = np.array([-40,-10,0,8,15,22,38], dtype=float)\n",
        "fahrenheit = np.array([-40, 14, 32, 46,59,72,100], dtype=float)"
      ],
      "metadata": {
        "id": "OgkIlO0J590f"
      },
      "execution_count": 28,
      "outputs": []
    },
    {
      "cell_type": "code",
      "source": [
        "#capa = tf.keras.layers.Dense(units = 1, input_shape=[1])\n",
        "#modelo = tf.keras.Sequential([capa])\n",
        "\n",
        "oculta1=tf.keras.layers.Dense(units = 3, input_shape=[1])\n",
        "oculta2=tf.keras.layers.Dense(units = 3)\n",
        "salida = tf.keras.layers.Dense(units=1)\n",
        "modelo=tf.keras.Sequential([oculta1, oculta2, salida])"
      ],
      "metadata": {
        "id": "rTpyW_8W74pA"
      },
      "execution_count": 30,
      "outputs": []
    },
    {
      "cell_type": "code",
      "source": [
        "modelo.compile(\n",
        "    optimizer=tf.keras.optimizers.Adam(0.1),\n",
        "    loss='mean_squared_error'\n",
        ")"
      ],
      "metadata": {
        "id": "hbTEWh0q76gJ"
      },
      "execution_count": 31,
      "outputs": []
    },
    {
      "cell_type": "code",
      "source": [
        "print(\"Comenzando entrenamiento\")\n",
        "historial = modelo.fit(celsius,fahrenheit,epochs=1000,verbose=False)\n",
        "print(\"Modelo entrenado\")"
      ],
      "metadata": {
        "colab": {
          "base_uri": "https://localhost:8080/"
        },
        "id": "AmNOMvWL8OrW",
        "outputId": "0e10b66c-5ad4-4b65-9331-8e16b3baca02"
      },
      "execution_count": 32,
      "outputs": [
        {
          "output_type": "stream",
          "name": "stdout",
          "text": [
            "Comenzando entrenamiento\n",
            "Modelo entrenado\n"
          ]
        }
      ]
    },
    {
      "cell_type": "code",
      "source": [
        "import matplotlib.pyplot as plt\n",
        "plt.xlabel(\"Epoca\")\n",
        "plt.ylabel(\"Magnitud perdida\")\n",
        "plt.plot(historial.history[\"loss\"])"
      ],
      "metadata": {
        "colab": {
          "base_uri": "https://localhost:8080/",
          "height": 297
        },
        "id": "T8nUK4n98r-w",
        "outputId": "bdbb1009-5bd7-4ff2-ac73-39d95989b385"
      },
      "execution_count": 33,
      "outputs": [
        {
          "output_type": "execute_result",
          "data": {
            "text/plain": [
              "[<matplotlib.lines.Line2D at 0x7f9816217610>]"
            ]
          },
          "metadata": {},
          "execution_count": 33
        },
        {
          "output_type": "display_data",
          "data": {
            "text/plain": [
              "<Figure size 432x288 with 1 Axes>"
            ],
            "image/png": "[encoded data removed]"
          },
          "metadata": {
            "needs_background": "light"
          }
        }
      ]
    },
    {
      "cell_type": "code",
      "source": [
        "print (\"Hagamos una prediccion\")\n",
        "celsius = 100\n",
        "resultado = modelo.predict([celsius])\n",
        "print(str(celsius) +\" grados Cº es \"+str(resultado)+\"Fahrenheit!\")"
      ],
      "metadata": {
        "colab": {
          "base_uri": "https://localhost:8080/"
        },
        "id": "t9f-7owW9GP1",
        "outputId": "fee55cb8-63cc-4f4f-f2ca-53e92b909626"
      },
      "execution_count": 34,
      "outputs": [
        {
          "output_type": "stream",
          "name": "stdout",
          "text": [
            "Hagamos una prediccion\n",
            "100 grados Cº es [[211.74747]]Fahrenheit!\n"
          ]
        }
      ]
    },
    {
      "cell_type": "code",
      "source": [
        "print(\"Mostrando las variables internas del Modelo\")\n",
        "#print(capa.get_weights())\n",
        "print(oculta1.get_weights())\n",
        "print(oculta2.get_weights())\n",
        "print(salida.get_weights())"
      ],
      "metadata": {
        "colab": {
          "base_uri": "https://localhost:8080/"
        },
        "id": "hhHp5jmE993l",
        "outputId": "dde3b8fd-cb76-4889-ee0d-494e06da3004"
      },
      "execution_count": 36,
      "outputs": [
        {
          "output_type": "stream",
          "name": "stdout",
          "text": [
            "Mostrando las variables internas del Modelo\n",
            "[array([[-0.71033883, -0.20270902,  0.3085205 ]], dtype=float32), array([-3.7259943, -3.2453134, -1.6390005], dtype=float32)]\n",
            "[array([[-0.6186805 ,  1.0003055 , -1.5701121 ],\n",
            "       [-1.2512828 ,  0.08828713, -1.8049082 ],\n",
            "       [-0.03282853,  0.11698047, -1.3414614 ]], dtype=float32), array([ 2.0313308, -2.2435102,  4.0815773], dtype=float32)]\n",
            "[array([[ 0.27509585],\n",
            "       [-0.1923125 ],\n",
            "       [ 1.3837641 ]], dtype=float32), array([3.4963624], dtype=float32)]\n"
          ]
        }
      ]
    }
  ]
}